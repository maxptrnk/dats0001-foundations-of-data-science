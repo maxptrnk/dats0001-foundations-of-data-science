{
 "cells": [
  {
   "cell_type": "markdown",
   "id": "30b28042-22ad-4fc6-ad09-31cdf0fed206",
   "metadata": {},
   "source": [
    "# `nb04`: Plots"
   ]
  },
  {
   "cell_type": "markdown",
   "id": "79f08f50-00b2-4a61-8bae-7125f7c3d1ff",
   "metadata": {},
   "source": [
    "# Plotting in Python"
   ]
  },
  {
   "cell_type": "code",
   "execution_count": null,
   "id": "e3b46fbe-3827-4d28-9998-b85e1390f03b",
   "metadata": {},
   "outputs": [],
   "source": [
    "import numpy as np\n",
    "import pandas as pd\n",
    "import matplotlib.pyplot as plt"
   ]
  },
  {
   "cell_type": "code",
   "execution_count": null,
   "id": "79ee7eaf-7665-4024-9654-467a1ab79723",
   "metadata": {},
   "outputs": [],
   "source": [
    "# MATLAB-style interface\n",
    "plt.figure()\n",
    "x = np.linspace(0, 10, 100)\n",
    "\n",
    "plt.subplot(2, 1, 1)     # first panel\n",
    "plt.plot(x, np.sin(x))\n",
    "\n",
    "plt.subplot(2, 1, 2)     # second panel\n",
    "plt.plot(x, np.cos(x))\n",
    "plt.show()"
   ]
  },
  {
   "cell_type": "markdown",
   "id": "d0b04595-abc1-4edf-b4f9-c2082b02913b",
   "metadata": {},
   "source": [
    "<div class=\"alert alert-danger\">\n",
    "    \n",
    "This interface is stateful. It keeps track of the current figure and axes, which are where all `plt` commands are applied. The current figure and axes can be retrieved with `plt.gcf()` and `plt.gca()`.\n",
    "    \n",
    "</div>"
   ]
  },
  {
   "cell_type": "code",
   "execution_count": null,
   "id": "6824250a-eda4-498b-b8ed-0d1472e3ab94",
   "metadata": {},
   "outputs": [],
   "source": [
    "# Object-oriented interface\n",
    "fig, ax = plt.subplots(2)\n",
    "\n",
    "ax[0].plot(x, np.sin(x))\n",
    "ax[1].plot(x, np.cos(x))\n",
    "\n",
    "plt.show()"
   ]
  },
  {
   "cell_type": "code",
   "execution_count": null,
   "id": "0480074f-942c-49d3-b2cd-566a0c0bcef7",
   "metadata": {},
   "outputs": [],
   "source": [
    "# Line plot\n",
    "fig = plt.figure()\n",
    "ax = plt.axes()\n",
    "\n",
    "x = np.linspace(0, 10, 100)\n",
    "ax.plot(x, np.sin(x), label=r\"$\\sin(x)$\")  # check ax.plot?\n",
    "ax.plot(x, np.cos(x), label=r\"$\\cos(x)$\")\n",
    "ax.set(xlim=(0, 8), ylim=(-2, 2), xlabel=r\"$x$\", title=\"a simple plot\")\n",
    "ax.legend()\n",
    "\n",
    "plt.show()"
   ]
  },
  {
   "cell_type": "code",
   "execution_count": null,
   "id": "4c27e250-ec88-479c-8aee-b68bcd5805df",
   "metadata": {},
   "outputs": [],
   "source": [
    "# Bar plots\n",
    "fig = plt.figure()\n",
    "ax = plt.axes()\n",
    "\n",
    "x = [3, 4, 5, 4, 2]\n",
    "ax.bar([\"first\", \"second\", \"third\", \"fourth\", \"fifth\"], x)\n",
    "\n",
    "plt.show()"
   ]
  },
  {
   "cell_type": "code",
   "execution_count": null,
   "id": "fe167a47-1e88-4408-8323-5e819f507c17",
   "metadata": {},
   "outputs": [],
   "source": [
    "# Scatter plot\n",
    "fig = plt.figure()\n",
    "ax = plt.axes()\n",
    "\n",
    "x = np.random.randn(500)\n",
    "y = np.sin(x) + 0.25 * np.random.randn(*x.shape)\n",
    "ax.scatter(x, y)\n",
    "\n",
    "plt.show()"
   ]
  },
  {
   "cell_type": "code",
   "execution_count": null,
   "id": "0cbaf80a-e133-474f-ab59-7bfde2ccf921",
   "metadata": {},
   "outputs": [],
   "source": [
    "# Boxplot\n",
    "fig = plt.figure()\n",
    "ax = plt.axes()\n",
    "\n",
    "ax.boxplot([x, y], labels=[\"x\", \"y\"])\n",
    "\n",
    "plt.show()"
   ]
  },
  {
   "cell_type": "code",
   "execution_count": null,
   "id": "a62ff317-d6b9-48a3-996c-d5c5e53680ef",
   "metadata": {},
   "outputs": [],
   "source": [
    "# Histograms\n",
    "fig = plt.figure()\n",
    "ax = plt.axes()\n",
    "\n",
    "ax.hist(x, bins=20)\n",
    "\n",
    "plt.show()"
   ]
  },
  {
   "cell_type": "code",
   "execution_count": null,
   "id": "bf75da75-bee7-4e1b-916b-2ac247bb614c",
   "metadata": {},
   "outputs": [],
   "source": [
    "fig = plt.figure()\n",
    "ax = plt.axes()\n",
    "\n",
    "kwargs = dict(bins=20, alpha=0.5, density=True)\n",
    "\n",
    "ax.hist(x, **kwargs)\n",
    "ax.hist(y, **kwargs)\n",
    "\n",
    "plt.show()"
   ]
  },
  {
   "cell_type": "code",
   "execution_count": null,
   "id": "fd65991e-4b32-45d0-9901-4b7cda440e97",
   "metadata": {},
   "outputs": [],
   "source": [
    "# Error bars\n",
    "fig = plt.figure()\n",
    "ax = plt.axes()\n",
    "\n",
    "x = np.linspace(0, 10, 100)\n",
    "dy = 0.25\n",
    "y = np.sin(x) + dy * np.random.randn(*x.shape)\n",
    "ax.errorbar(x, y, yerr=dy, fmt=\"o\")\n",
    "\n",
    "plt.show()"
   ]
  },
  {
   "cell_type": "code",
   "execution_count": null,
   "id": "235b1c24-042e-4b76-ae44-bd98852123cd",
   "metadata": {},
   "outputs": [],
   "source": [
    "# Arrays as images\n",
    "fig = plt.figure()\n",
    "ax = plt.axes()\n",
    "\n",
    "x = np.linspace(-5, 5, 21)\n",
    "y = np.linspace(-5, 5, 21)\n",
    "# full coordinate arrays\n",
    "xx, yy = np.meshgrid(x, y)\n",
    "zz = np.sqrt(xx**2 + yy**2)\n",
    "\n",
    "ax.imshow(zz)\n",
    "\n",
    "plt.show()"
   ]
  },
  {
   "cell_type": "code",
   "execution_count": null,
   "id": "1f610824-cec6-407a-b1a5-1a0a845be7c7",
   "metadata": {},
   "outputs": [],
   "source": [
    "# Contours\n",
    "fig = plt.figure()\n",
    "ax = plt.axes()\n",
    "\n",
    "ax.contourf(zz)\n",
    "ax.set(aspect=\"equal\")\n",
    "\n",
    "plt.show()"
   ]
  },
  {
   "cell_type": "code",
   "execution_count": null,
   "id": "db51e9ff-6bbd-4c25-9599-420753563d6d",
   "metadata": {},
   "outputs": [],
   "source": [
    "# Save figure\n",
    "fig.savefig(\"myplot.pdf\")"
   ]
  },
  {
   "cell_type": "markdown",
   "id": "35f5f2ef-9010-42c2-81e4-a86d6477b7cf",
   "metadata": {},
   "source": [
    "<div class=\"alert alert-success\">\n",
    "    \n",
    "**Exercise**. Produce a plot of $f(x) = \\exp(-\\frac{x}{10})\\sin(\\pi x)$ and $g(x) = x\\exp(-\\frac{x}{3})$ over the interval $[0, 10]$. Include labels for th $x$-axis and $y$-axis and a legend explaining which line is which plot. Save the plot as a PNG file.\n",
    "    \n",
    "</div>"
   ]
  },
  {
   "cell_type": "code",
   "execution_count": null,
   "id": "2a5c8cdc-1dd6-4e1b-b04b-89ecda490361",
   "metadata": {},
   "outputs": [],
   "source": []
  },
  {
   "cell_type": "markdown",
   "id": "42eed7e0-973b-48ba-9af8-c07a3edc4b48",
   "metadata": {},
   "source": [
    "<div class=\"alert alert-success\">\n",
    "    \n",
    "**Exercise**. Reproduce the plot below of Belgian COVID-19 daily cases using [this data](https://raw.githubusercontent.com/CSSEGISandData/COVID-19/master/csse_covid_19_data/csse_covid_19_time_series/time_series_covid19_confirmed_global.csv).\n",
    "    \n",
    "</div>\n",
    "\n",
    "<img src=\"./figures/nb04/covid-plot.png\" />"
   ]
  },
  {
   "cell_type": "code",
   "execution_count": null,
   "id": "15cfe050-b9ea-46a3-93b1-7e2bcc26209b",
   "metadata": {},
   "outputs": [],
   "source": []
  },
  {
   "cell_type": "markdown",
   "id": "d39f558e-ce62-49eb-876c-fe7970952ebb",
   "metadata": {},
   "source": [
    "Beyond `matplotlib`, several higher-level libraries exist for plotting in Python. The most notable include\n",
    "- [`seaborn`](https://seaborn.pydata.org/), for attractive and informative statistical graphics;\n",
    "- [`bokeh`](https://docs.bokeh.org/en/latest/index.html), for interactive visualizations."
   ]
  },
  {
   "cell_type": "markdown",
   "id": "414dbe1c-fc2f-4395-b8f8-f9b2694b9d8a",
   "metadata": {},
   "source": [
    "# Data visualization principles"
   ]
  },
  {
   "cell_type": "markdown",
   "id": "d397b96f-2ef6-4e30-b441-613f6db567cb",
   "metadata": {},
   "source": [
    "## Encoding data using visual cues\n",
    "\n",
    "Whenever we visualize, data is encoded using visual cues. It is mapped onto variations in size, shape, color, area, angle, etc.\n",
    "\n",
    "<img src=\"./figures/nb04/cues1.jpg\" width=\"30%\" />\n",
    "\n",
    "These cues, however, are not perceived equally well across people (Cleveland and McGill, 1980). \n",
    "\n",
    "<img src=\"./figures/nb04/cues2.jpg\" width=\"30%\" />\n",
    "\n",
    "(Figures reproduced from [Peter Aldhous, 2019](https://paldhous.github.io/ucb/2019/dataviz/week2.html).)\n",
    "\n",
    "<div class=\"alert alert-danger\">\n",
    "    \n",
    "For numerical quantities, **positions** and **lengths** are perceived the most accurately. \n",
    "For categorical values, **shapes** are perceived the most accurately.\n",
    "   \n",
    "</div>"
   ]
  },
  {
   "cell_type": "code",
   "execution_count": null,
   "id": "e65537d2-cd60-43da-8c54-328a33966d21",
   "metadata": {},
   "outputs": [],
   "source": [
    "fig = plt.figure()\n",
    "ax = plt.axes()\n",
    "\n",
    "x = np.ones(5) + 0.075*np.random.randn(5)\n",
    "labels = [\"a\", \"b\", \"c\", \"d\", \"e\"]\n",
    "ax.pie(x, labels=labels)\n",
    "\n",
    "plt.show()"
   ]
  },
  {
   "cell_type": "code",
   "execution_count": null,
   "id": "e859f51e-d8f6-41d8-9575-b00f9f97e7b0",
   "metadata": {},
   "outputs": [],
   "source": [
    "# Using lengths\n",
    "fig = plt.figure()\n",
    "ax = plt.axes()\n",
    "\n",
    "ax.barh(labels, width=x)\n",
    "\n",
    "plt.show()"
   ]
  },
  {
   "cell_type": "code",
   "execution_count": null,
   "id": "91cbaac5-03c2-4d0e-b69c-d4f36a476b99",
   "metadata": {},
   "outputs": [],
   "source": [
    "# Using positions\n",
    "fig = plt.figure()\n",
    "ax = plt.axes()\n",
    "\n",
    "ax.barh(labels, width=x)\n",
    "ax.set(xlim=(np.min(x)-0.01, np.max(x)+0.01))\n",
    "\n",
    "plt.show()"
   ]
  },
  {
   "cell_type": "markdown",
   "id": "b5d15e7b-58fb-4d21-809a-d72882bb0395",
   "metadata": {},
   "source": [
    "## Show the data"
   ]
  },
  {
   "cell_type": "code",
   "execution_count": null,
   "id": "799e55c7-454a-4e24-b298-4d74d70dedea",
   "metadata": {},
   "outputs": [],
   "source": [
    "# Summaries vs. data\n",
    "x = [10, 8, 13, 9, 11, 14, 6, 4, 12, 7, 5]\n",
    "y1 = [8.04, 6.95, 7.58, 8.81, 8.33, 9.96, 7.24, 4.26, 10.84, 4.82, 5.68]\n",
    "y2 = [9.14, 8.14, 8.74, 8.77, 9.26, 8.10, 6.13, 3.10, 9.13, 7.26, 4.74]\n",
    "y3 = [7.46, 6.77, 12.74, 7.11, 7.81, 8.84, 6.08, 5.39, 8.15, 6.42, 5.73]\n",
    "x4 = [8, 8, 8, 8, 8, 8, 8, 19, 8, 8, 8]\n",
    "y4 = [6.58, 5.76, 7.71, 8.84, 8.47, 7.04, 5.25, 12.50, 5.56, 7.91, 6.89]\n",
    "\n",
    "datasets = np.array([(x, y1), (x, y2), (x, y3), (x4, y4)])"
   ]
  },
  {
   "cell_type": "code",
   "execution_count": null,
   "id": "1a0a8e17-5560-43ea-86f5-3a0f89698916",
   "metadata": {},
   "outputs": [],
   "source": [
    "fig = plt.figure()\n",
    "ax = plt.axes()\n",
    "\n",
    "ax.bar(range(4), height=np.mean(datasets[:, 1, :], axis=1))\n",
    "\n",
    "plt.show()"
   ]
  },
  {
   "cell_type": "code",
   "execution_count": null,
   "id": "332c55fd-6170-4205-a01e-7d2446a39b7b",
   "metadata": {},
   "outputs": [],
   "source": [
    "fig, axs = plt.subplots(2, 2)\n",
    "\n",
    "for n, ax in enumerate(axs.ravel()):\n",
    "    ax.scatter(datasets[n, 0], datasets[n, 1])\n",
    "    ax.axhline(np.mean(datasets[n, 1]), color=\"r\")\n",
    "    ax.set(ylim=(0, 15))\n",
    "    \n",
    "plt.show()"
   ]
  },
  {
   "cell_type": "code",
   "execution_count": null,
   "id": "c93d67f3-5adc-4c34-ae03-ad4c2f5f7e7c",
   "metadata": {},
   "outputs": [],
   "source": [
    "# A mix of both summaries and data\n",
    "fig = plt.figure()\n",
    "ax = plt.axes()\n",
    "\n",
    "ax.boxplot(datasets[:, 1].T)\n",
    "for i in range(4):\n",
    "    y = datasets[i, 1]\n",
    "    ax.scatter(np.random.normal(i+1, 0.04, size=len(y)), y)\n",
    "\n",
    "plt.show()"
   ]
  },
  {
   "cell_type": "code",
   "execution_count": null,
   "id": "086626ce-40bc-4637-a366-540909c97afe",
   "metadata": {},
   "outputs": [],
   "source": [
    "# Another example\n",
    "df = pd.read_csv(\"data/countries.csv\")\n",
    "regions = df.groupby(\"Region\")[\"Population\"].mean()\n",
    "labels = [r.strip().lower() for r in regions.index]\n",
    "\n",
    "fig = plt.figure()\n",
    "ax = plt.axes()\n",
    "ax.bar(range(len(labels)), height=regions.values)\n",
    "plt.xticks(range(len(labels)), labels, rotation=90)\n",
    "plt.show()"
   ]
  },
  {
   "cell_type": "code",
   "execution_count": null,
   "id": "51e1992c-c7ef-486b-b590-bbb3b7eec8f7",
   "metadata": {},
   "outputs": [],
   "source": [
    "df = pd.read_csv(\"data/countries.csv\")\n",
    "\n",
    "fig = plt.figure()\n",
    "ax = plt.axes()\n",
    "\n",
    "for i, (r, s) in enumerate(df.groupby(\"Region\")[\"Population\"]):\n",
    "    r = r.strip().lower()\n",
    "    ax.scatter(np.random.normal(i+1, 0.05, size=len(s)), s)\n",
    "\n",
    "ax.boxplot([s for _, s in df.groupby(\"Region\")[\"Population\"]])\n",
    "\n",
    "plt.xticks(range(1, len(labels)+1), labels, rotation=90)\n",
    "plt.show()"
   ]
  },
  {
   "cell_type": "code",
   "execution_count": null,
   "id": "68306f04-6cec-4565-a569-0635ca7f5d4a",
   "metadata": {},
   "outputs": [],
   "source": [
    "# Log-transform\n",
    "df = pd.read_csv(\"data/countries.csv\")\n",
    "\n",
    "fig = plt.figure()\n",
    "ax = plt.axes()\n",
    "\n",
    "for i, (r, s) in enumerate(df.groupby(\"Region\")[\"Population\"]):\n",
    "    r = r.strip().lower()\n",
    "    ax.scatter(np.random.normal(i+1, 0.05, size=len(s)), s)\n",
    "\n",
    "ax.boxplot([s for _, s in df.groupby(\"Region\")[\"Population\"]])\n",
    "\n",
    "ax.set(yscale=\"log\")\n",
    "plt.xticks(range(1, len(labels)+1), labels, rotation=90)\n",
    "plt.show()"
   ]
  },
  {
   "cell_type": "markdown",
   "id": "99f3f426-fbc9-4ffe-a04a-d2601499d552",
   "metadata": {},
   "source": [
    "## Ease comparisons"
   ]
  },
  {
   "cell_type": "code",
   "execution_count": null,
   "id": "38cf00fb-3a1c-459b-827b-294227a746f9",
   "metadata": {},
   "outputs": [],
   "source": [
    "df = pd.read_csv(\"data/weight-height.csv\")\n",
    "df.head(5)"
   ]
  },
  {
   "cell_type": "code",
   "execution_count": null,
   "id": "4d6f6588-ffb4-401e-b9e2-5b81a58d4881",
   "metadata": {},
   "outputs": [],
   "source": [
    "fig, axs = plt.subplots(1, 2)\n",
    "\n",
    "groups = [(g, s) for g, s in df.groupby(\"Gender\")[\"Height\"]]\n",
    "\n",
    "for i, (g, s) in enumerate(groups):\n",
    "    axs[i].hist(s, bins=20)\n",
    "    axs[i].set(title=g)\n",
    "\n",
    "plt.show()"
   ]
  },
  {
   "cell_type": "code",
   "execution_count": null,
   "id": "f39a52f9-3af9-4eb0-b783-55a0cc12ecbb",
   "metadata": {},
   "outputs": [],
   "source": [
    "# Use common axes\n",
    "fig, axs = plt.subplots(1, 2)\n",
    "\n",
    "groups = [(g, s) for g, s in df.groupby(\"Gender\")[\"Height\"]]\n",
    "\n",
    "for i, (g, s) in enumerate(groups):\n",
    "    axs[i].hist(s, bins=20, density=True)\n",
    "    axs[i].set(title=g, xlim=(50, 90), ylim=(0, 0.15))\n",
    "    \n",
    "plt.show()"
   ]
  },
  {
   "cell_type": "code",
   "execution_count": null,
   "id": "4fcf84f8-7f94-482e-a3f1-a6a1ddd8cf09",
   "metadata": {},
   "outputs": [],
   "source": [
    "# Align plots\n",
    "# (vertically to see horizontal changes and vice-versa)\n",
    "fig, axs = plt.subplots(2, 1)\n",
    "\n",
    "groups = [(g, s) for g, s in df.groupby(\"Gender\")[\"Height\"]]\n",
    "\n",
    "for i, (g, s) in enumerate(groups):\n",
    "    axs[i].hist(s, bins=20, density=True)\n",
    "    axs[i].set(title=g, xlim=(50, 90), ylim=(0, 0.15))\n",
    "    \n",
    "plt.show()"
   ]
  },
  {
   "cell_type": "code",
   "execution_count": null,
   "id": "28e31a48-5c98-4b5d-8261-92d8106b18a8",
   "metadata": {},
   "outputs": [],
   "source": [
    "# Don't distort quantities\n",
    "df = pd.read_csv(\"data/countries.csv\")\n",
    "df = df.query(\"Country in ('United States', 'China', 'Germany', 'France', 'Belgium')\")\n",
    "\n",
    "labels = df[\"Country\"].values\n",
    "values = (df[\"GDP\"] * df[\"Population\"]).values\n",
    "values /= np.sum(values)\n",
    "\n",
    "fig = plt.figure()\n",
    "ax = plt.axes()\n",
    "\n",
    "for i in range(len(labels)):\n",
    "    circ = plt.Circle((0, i), radius=values[i])\n",
    "    ax.add_patch(circ)\n",
    "    ax.text(1.5, i, labels[i], horizontalalignment='center', verticalalignment='center')\n",
    "\n",
    "ax.set(aspect=\"equal\", xticks=[], yticks=[], title=\"GDP\")\n",
    "ax.autoscale_view()\n",
    "plt.show()"
   ]
  },
  {
   "cell_type": "code",
   "execution_count": null,
   "id": "1e7781a6-2a48-4adf-a581-f43528a09f55",
   "metadata": {},
   "outputs": [],
   "source": [
    "fig = plt.figure()\n",
    "ax = plt.axes()\n",
    "\n",
    "for i in range(len(labels)):\n",
    "    circ = plt.Circle((0, i), radius=(values[i] / np.pi) ** 0.5)\n",
    "    ax.add_patch(circ)\n",
    "    ax.text(1.5, i, labels[i], horizontalalignment='center', verticalalignment='center')\n",
    "\n",
    "ax.set(aspect=\"equal\", xticks=[], yticks=[], title=\"GDP\")\n",
    "ax.autoscale_view()\n",
    "plt.show()"
   ]
  },
  {
   "cell_type": "code",
   "execution_count": null,
   "id": "0fface81-6e61-4c6f-bfb4-a854fe219ea5",
   "metadata": {},
   "outputs": [],
   "source": [
    "fig = plt.figure()\n",
    "ax = plt.axes()\n",
    "\n",
    "ax.bar(labels, values)\n",
    "\n",
    "ax.set(title=\"GDP\", yticks=[])\n",
    "plt.show()"
   ]
  },
  {
   "cell_type": "code",
   "execution_count": null,
   "id": "e9af3871-6c56-4233-be54-8f0289a84d1b",
   "metadata": {},
   "outputs": [],
   "source": [
    "# Sort on a meaningful variable\n",
    "fig = plt.figure()\n",
    "ax = plt.axes()\n",
    "\n",
    "ind = np.argsort(values)[::-1]\n",
    "ax.bar(labels[ind], values[ind])\n",
    "\n",
    "ax.set(title=\"GDP\", yticks=[])\n",
    "plt.show()"
   ]
  },
  {
   "cell_type": "markdown",
   "id": "84f9ef5e-9f5c-4553-9d5f-d490c02da8c4",
   "metadata": {},
   "source": [
    "## Use colors effectively"
   ]
  },
  {
   "cell_type": "code",
   "execution_count": null,
   "id": "b2a0b6b4-fd66-4bc1-b90f-36404a37c432",
   "metadata": {},
   "outputs": [],
   "source": [
    "df = pd.read_csv(\"data/countries.csv\")\n",
    "df = df.query(\"Country in ('United States', 'China', 'Germany', 'France', 'Belgium')\")\n",
    "\n",
    "labels = df[\"Country\"].values\n",
    "values = (df[\"GDP\"] * df[\"Population\"]).values\n",
    "values /= np.sum(values)\n",
    "\n",
    "fig = plt.figure()\n",
    "ax = plt.axes()\n",
    "\n",
    "ind = np.argsort(values)[::-1]\n",
    "ax.bar(labels[ind], values[ind], color=[\"C0\", \"C0\", \"C0\", \"C1\", \"C0\"])\n",
    "\n",
    "ax.set(title=\"GDP\", yticks=[])\n",
    "plt.show()"
   ]
  },
  {
   "cell_type": "markdown",
   "id": "95cd1597-a2da-488b-ae98-e7e65546eb44",
   "metadata": {},
   "source": [
    "## Prefer labels over legends"
   ]
  },
  {
   "cell_type": "code",
   "execution_count": null,
   "id": "53d8a560-92c7-4603-a8a4-427eb44ca715",
   "metadata": {},
   "outputs": [],
   "source": [
    "df = pd.read_csv(\"data/countries.csv\")\n",
    "regions = df.groupby(\"Region\")[\"Population\"].mean()\n",
    "labels = [r.strip().lower() for r in regions.index]\n",
    "\n",
    "fig = plt.figure()\n",
    "ax = plt.axes()\n",
    "\n",
    "for i, (r, s) in enumerate(df.groupby(\"Region\")[\"Population\"]):\n",
    "    r = r.strip().lower()\n",
    "    ax.scatter(np.random.normal(i+1, 0.05, size=len(s)), s, label=r)\n",
    "\n",
    "ax.boxplot([s for _, s in df.groupby(\"Region\")[\"Population\"]])\n",
    "\n",
    "ax.set(yscale=\"log\", xticks=[])\n",
    "ax.legend()\n",
    "plt.show()"
   ]
  },
  {
   "cell_type": "code",
   "execution_count": null,
   "id": "753eda9b-bbd9-4a8e-b7b6-c71b5670eb72",
   "metadata": {},
   "outputs": [],
   "source": [
    "df = pd.read_csv(\"data/countries.csv\")\n",
    "regions = df.groupby(\"Region\")[\"Population\"].mean()\n",
    "labels = [r.strip().lower() for r in regions.index]\n",
    "\n",
    "fig = plt.figure()\n",
    "ax = plt.axes()\n",
    "\n",
    "for i, (r, s) in enumerate(df.groupby(\"Region\")[\"Population\"]):\n",
    "    r = r.strip().lower()\n",
    "    ax.scatter(np.random.normal(i+1, 0.05, size=len(s)), s)\n",
    "\n",
    "ax.boxplot([s for _, s in df.groupby(\"Region\")[\"Population\"]])\n",
    "\n",
    "ax.set(yscale=\"log\", xticks=[])\n",
    "plt.xticks(range(1, len(labels)+1), labels, rotation=90)\n",
    "plt.show()"
   ]
  },
  {
   "cell_type": "markdown",
   "id": "abf9efba-95f5-4678-a2d9-8c5fc82b1537",
   "metadata": {
    "tags": []
   },
   "source": [
    "## Choosing the right graph (Jean-Luc Doumont)"
   ]
  },
  {
   "cell_type": "code",
   "execution_count": null,
   "id": "10ba46c9-2ff6-42c4-9497-37411154c82e",
   "metadata": {},
   "outputs": [],
   "source": [
    "from IPython.display import YouTubeVideo\n",
    "YouTubeVideo(\"6lm4wJ1qm0w\")"
   ]
  },
  {
   "cell_type": "markdown",
   "id": "53067792-e3f7-491a-aa02-6315924c12b9",
   "metadata": {},
   "source": [
    "# Wrap-up exercises"
   ]
  },
  {
   "cell_type": "markdown",
   "id": "e1003f18-1938-4d49-97b5-0cdda1b3f4e1",
   "metadata": {},
   "source": [
    "<div class=\"alert alert-success\">\n",
    "    \n",
    "**Exercice**. Discuss Figure 1 and Figure 2 of [Canziani et al, 2016](https://arxiv.org/pdf/1605.07678.pdf).\n",
    "    \n",
    "</div>\n",
    "\n",
    "<div class=\"alert alert-success\">\n",
    "    \n",
    "**Exercice**. Take one of your past reports and revisit one of its plots.\n",
    "    \n",
    "</div>"
   ]
  }
 ],
 "metadata": {
  "kernelspec": {
   "display_name": "Python 3 (ipykernel)",
   "language": "python",
   "name": "python3"
  },
  "language_info": {
   "codemirror_mode": {
    "name": "ipython",
    "version": 3
   },
   "file_extension": ".py",
   "mimetype": "text/x-python",
   "name": "python",
   "nbconvert_exporter": "python",
   "pygments_lexer": "ipython3",
   "version": "3.10.4"
  }
 },
 "nbformat": 4,
 "nbformat_minor": 5
}
