{
 "cells": [
  {
   "cell_type": "markdown",
   "id": "43b6f067-d3f2-4c15-8d33-90dae0a204bb",
   "metadata": {},
   "source": [
    "# `nb02`: Tables"
   ]
  },
  {
   "cell_type": "markdown",
   "id": "9e6d6bc2-2a92-4b60-b597-004f7d3f0322",
   "metadata": {},
   "source": [
    "![](figures/nb02/numpy.png)\n",
    "\n",
    "Numpy is the core library for scientific computing in Python. It provides a high-performance multidimensional array object, and tools for working with these arrays. "
   ]
  },
  {
   "cell_type": "markdown",
   "id": "67001c46-8c6d-450d-8af7-75108336de0a",
   "metadata": {},
   "source": [
    "To use Numpy, we first need to import the `numpy` package:"
   ]
  },
  {
   "cell_type": "code",
   "execution_count": 1,
   "id": "19684d8c-2461-4147-b658-7bd89931531e",
   "metadata": {},
   "outputs": [],
   "source": [
    "import numpy as np"
   ]
  },
  {
   "cell_type": "markdown",
   "id": "db263ae3-3e6e-40fb-8a5a-70b627d175bb",
   "metadata": {},
   "source": [
    "# Arrays"
   ]
  },
  {
   "cell_type": "markdown",
   "id": "779c7906-e42a-4c11-a734-29eb20a2e3ab",
   "metadata": {},
   "source": [
    "A Numpy `array` is a table of values, all of the same type, and is indexed by a tuple of  integers. The number of dimensions is the rank of the array; the shape of an array is a tuple of integers giving the size of the array along each dimension."
   ]
  },
  {
   "cell_type": "code",
   "execution_count": 2,
   "id": "142a01b7-a5ee-469d-a691-2a1804b8d622",
   "metadata": {},
   "outputs": [],
   "source": [
    "a = np.array([[1, 2, 3, 4],\n",
    "              [5, 6, 7, 8],\n",
    "              [9, 10, 11, 12]])"
   ]
  },
  {
   "cell_type": "code",
   "execution_count": 3,
   "id": "a140b27f-096b-45a9-9dbd-37f66a86c02b",
   "metadata": {},
   "outputs": [
    {
     "data": {
      "text/plain": [
       "dtype('int64')"
      ]
     },
     "execution_count": 3,
     "metadata": {},
     "output_type": "execute_result"
    }
   ],
   "source": [
    "a.dtype"
   ]
  },
  {
   "cell_type": "code",
   "execution_count": 4,
   "id": "8e7c7bdd-0f5b-411e-9ada-042b9b036544",
   "metadata": {},
   "outputs": [
    {
     "data": {
      "text/plain": [
       "8"
      ]
     },
     "execution_count": 4,
     "metadata": {},
     "output_type": "execute_result"
    }
   ],
   "source": [
    "a.itemsize"
   ]
  },
  {
   "cell_type": "code",
   "execution_count": 5,
   "id": "3e0a93fc-e386-4df6-9f27-065d606a98eb",
   "metadata": {},
   "outputs": [
    {
     "data": {
      "text/plain": [
       "2"
      ]
     },
     "execution_count": 5,
     "metadata": {},
     "output_type": "execute_result"
    }
   ],
   "source": [
    "a.ndim"
   ]
  },
  {
   "cell_type": "code",
   "execution_count": 6,
   "id": "4b42d36c-4c36-4fb2-9450-76176352f18a",
   "metadata": {},
   "outputs": [
    {
     "data": {
      "text/plain": [
       "(3, 4)"
      ]
     },
     "execution_count": 6,
     "metadata": {},
     "output_type": "execute_result"
    }
   ],
   "source": [
    "a.shape"
   ]
  },
  {
   "cell_type": "code",
   "execution_count": 8,
   "id": "294e127a",
   "metadata": {},
   "outputs": [
    {
     "data": {
      "text/plain": [
       "array([[ 1,  6, 11],\n",
       "       [ 2,  7, 12],\n",
       "       [ 3,  8, 13],\n",
       "       [ 4,  9, 14],\n",
       "       [ 5, 10, 15]])"
      ]
     },
     "execution_count": 8,
     "metadata": {},
     "output_type": "execute_result"
    }
   ],
   "source": []
  },
  {
   "cell_type": "markdown",
   "id": "fc1f411f-e31b-4644-b66e-1f7038d138ec",
   "metadata": {},
   "source": [
    "## Array creation"
   ]
  },
  {
   "cell_type": "code",
   "execution_count": 7,
   "id": "b1d20327-f7e9-4893-a38d-2cd3d76f5a88",
   "metadata": {},
   "outputs": [
    {
     "data": {
      "text/plain": [
       "array([2, 3, 4])"
      ]
     },
     "execution_count": 7,
     "metadata": {},
     "output_type": "execute_result"
    }
   ],
   "source": [
    "# from a list\n",
    "a = np.array([2, 3, 4])\n",
    "a"
   ]
  },
  {
   "cell_type": "code",
   "execution_count": 8,
   "id": "f81a51ed-2033-4a9c-b84c-dd3e99322bb3",
   "metadata": {},
   "outputs": [
    {
     "data": {
      "text/plain": [
       "array([1.2, 3.5, 5.1])"
      ]
     },
     "execution_count": 8,
     "metadata": {},
     "output_type": "execute_result"
    }
   ],
   "source": [
    "b = np.array([1.2, 3.5, 5.1])\n",
    "b"
   ]
  },
  {
   "cell_type": "code",
   "execution_count": 9,
   "id": "59551984-7b87-4a1b-b0cd-bcdd37d8364d",
   "metadata": {},
   "outputs": [
    {
     "data": {
      "text/plain": [
       "dtype('float64')"
      ]
     },
     "execution_count": 9,
     "metadata": {},
     "output_type": "execute_result"
    }
   ],
   "source": [
    "b.dtype"
   ]
  },
  {
   "cell_type": "code",
   "execution_count": 10,
   "id": "bc51a9aa-8391-4af7-8e10-dadcafd84884",
   "metadata": {},
   "outputs": [
    {
     "data": {
      "text/plain": [
       "array([[1.+0.j, 2.+0.j],\n",
       "       [3.+0.j, 4.+0.j]])"
      ]
     },
     "execution_count": 10,
     "metadata": {},
     "output_type": "execute_result"
    }
   ],
   "source": [
    "# from a list, with a specified dtype\n",
    "c = np.array([[1, 2], [3, 4]], dtype=complex)\n",
    "c"
   ]
  },
  {
   "cell_type": "code",
   "execution_count": 11,
   "id": "1a857af3-bbc5-452e-a04e-adfd376ae2c7",
   "metadata": {},
   "outputs": [
    {
     "data": {
      "text/plain": [
       "array([[0, 0, 0, 0],\n",
       "       [0, 0, 0, 0],\n",
       "       [0, 0, 0, 0]])"
      ]
     },
     "execution_count": 11,
     "metadata": {},
     "output_type": "execute_result"
    }
   ],
   "source": [
    "# with placeholders\n",
    "a = np.zeros((3, 4), dtype=int)\n",
    "a"
   ]
  },
  {
   "cell_type": "code",
   "execution_count": 12,
   "id": "46837279-1543-4389-b9e4-fec799043cd8",
   "metadata": {},
   "outputs": [
    {
     "data": {
      "text/plain": [
       "array([[[1, 1],\n",
       "        [1, 1],\n",
       "        [1, 1],\n",
       "        [1, 1]],\n",
       "\n",
       "       [[1, 1],\n",
       "        [1, 1],\n",
       "        [1, 1],\n",
       "        [1, 1]],\n",
       "\n",
       "       [[1, 1],\n",
       "        [1, 1],\n",
       "        [1, 1],\n",
       "        [1, 1]]])"
      ]
     },
     "execution_count": 12,
     "metadata": {},
     "output_type": "execute_result"
    }
   ],
   "source": [
    "b = np.ones((3, 4, 2), dtype=int)\n",
    "b"
   ]
  },
  {
   "cell_type": "code",
   "execution_count": 13,
   "id": "6e2870db-4197-4ca3-8e68-ebd5504e61f8",
   "metadata": {},
   "outputs": [
    {
     "data": {
      "text/plain": [
       "array([[4.64104623e-310, 0.00000000e+000, 0.00000000e+000],\n",
       "       [0.00000000e+000, 0.00000000e+000, 0.00000000e+000]])"
      ]
     },
     "execution_count": 13,
     "metadata": {},
     "output_type": "execute_result"
    }
   ],
   "source": [
    "c = np.empty((2, 3))\n",
    "c"
   ]
  },
  {
   "cell_type": "code",
   "execution_count": 14,
   "id": "7187c51c-4d16-48f8-b550-6527181a844b",
   "metadata": {},
   "outputs": [
    {
     "data": {
      "text/plain": [
       "array([10, 15, 20, 25])"
      ]
     },
     "execution_count": 14,
     "metadata": {},
     "output_type": "execute_result"
    }
   ],
   "source": [
    "# with a range\n",
    "d = np.arange(10, 30, 5)\n",
    "d"
   ]
  },
  {
   "cell_type": "code",
   "execution_count": 15,
   "id": "12669bb4-2e81-4266-852a-109623ca85cc",
   "metadata": {},
   "outputs": [
    {
     "data": {
      "text/plain": [
       "array([10.        , 12.22222222, 14.44444444, 16.66666667, 18.88888889,\n",
       "       21.11111111, 23.33333333, 25.55555556, 27.77777778, 30.        ])"
      ]
     },
     "execution_count": 15,
     "metadata": {},
     "output_type": "execute_result"
    }
   ],
   "source": [
    "d = np.linspace(10, 30, num=10)\n",
    "d"
   ]
  },
  {
   "cell_type": "code",
   "execution_count": 16,
   "id": "3c8ab2f0-1292-4347-a682-536fd2e6b887",
   "metadata": {},
   "outputs": [
    {
     "data": {
      "text/plain": [
       "array([[0.51273891, 0.54064726, 0.82372076],\n",
       "       [0.87339438, 0.27639278, 0.67021351],\n",
       "       [0.39376233, 0.7910856 , 0.82207861]])"
      ]
     },
     "execution_count": 16,
     "metadata": {},
     "output_type": "execute_result"
    }
   ],
   "source": [
    "# with random numbers\n",
    "e = np.random.random((3, 3))\n",
    "e"
   ]
  },
  {
   "cell_type": "markdown",
   "id": "4452884a-dc7b-4a08-97d0-22c201f41cd5",
   "metadata": {},
   "source": [
    "## Shape manipulation"
   ]
  },
  {
   "cell_type": "markdown",
   "id": "70ac9d59-4c96-423b-9b75-e3e4278a6749",
   "metadata": {},
   "source": [
    "The shape of an array can be changed with various functions."
   ]
  },
  {
   "cell_type": "code",
   "execution_count": 17,
   "id": "04216000-5c4e-4a59-ba58-8599b4902bdd",
   "metadata": {},
   "outputs": [
    {
     "data": {
      "text/plain": [
       "(3, 4)"
      ]
     },
     "execution_count": 17,
     "metadata": {},
     "output_type": "execute_result"
    }
   ],
   "source": [
    "a = np.array([[1, 2, 3, 4],\n",
    "              [5, 6, 7, 8],\n",
    "              [9, 10, 11, 12]])\n",
    "a.shape"
   ]
  },
  {
   "cell_type": "code",
   "execution_count": 18,
   "id": "94dcfa0c-4b2d-413b-a598-cb66af0ed717",
   "metadata": {},
   "outputs": [
    {
     "data": {
      "text/plain": [
       "array([ 1,  2,  3,  4,  5,  6,  7,  8,  9, 10, 11, 12])"
      ]
     },
     "execution_count": 18,
     "metadata": {},
     "output_type": "execute_result"
    }
   ],
   "source": [
    "# flatten\n",
    "a.ravel()"
   ]
  },
  {
   "cell_type": "code",
   "execution_count": 19,
   "id": "2b4ea2fd-ea60-4026-8fa5-02550aac731b",
   "metadata": {},
   "outputs": [
    {
     "data": {
      "text/plain": [
       "array([[ 1,  2],\n",
       "       [ 3,  4],\n",
       "       [ 5,  6],\n",
       "       [ 7,  8],\n",
       "       [ 9, 10],\n",
       "       [11, 12]])"
      ]
     },
     "execution_count": 19,
     "metadata": {},
     "output_type": "execute_result"
    }
   ],
   "source": [
    "# modify the shape\n",
    "a.reshape(6, 2)"
   ]
  },
  {
   "cell_type": "code",
   "execution_count": 20,
   "id": "7d440d0b-e37f-4cd3-8176-2f70a2ea0cec",
   "metadata": {},
   "outputs": [
    {
     "data": {
      "text/plain": [
       "array([[ 1,  5,  9],\n",
       "       [ 2,  6, 10],\n",
       "       [ 3,  7, 11],\n",
       "       [ 4,  8, 12]])"
      ]
     },
     "execution_count": 20,
     "metadata": {},
     "output_type": "execute_result"
    }
   ],
   "source": [
    "# transpose\n",
    "a.T"
   ]
  },
  {
   "cell_type": "markdown",
   "id": "7e73d0c8-751f-46ae-88f6-8a3747ed33a0",
   "metadata": {},
   "source": [
    "<div class=\"alert alert-success\">\n",
    "    \n",
    "**Exercice**. Build the following 2d array (without typing it in explicitly):\n",
    "```\n",
    "[[1,  6, 11],\n",
    " [2,  7, 12],\n",
    " [3,  8, 13],\n",
    " [4,  9, 14],\n",
    " [5, 10, 15]]\n",
    "```\n",
    "\n",
    "</div>"
   ]
  },
  {
   "cell_type": "code",
   "execution_count": null,
   "id": "28e242c2-0a93-4eb6-a235-5e5732d898b1",
   "metadata": {},
   "outputs": [],
   "source": [
    "# create this array\n",
    "\n",
    "d = np.arange(1,16).reshape(3,5).T\n",
    "d"
   ]
  },
  {
   "cell_type": "markdown",
   "id": "b6f1854d-fac0-4906-a0a9-80cbe2c2ac8a",
   "metadata": {
    "tags": []
   },
   "source": [
    "## Internals"
   ]
  },
  {
   "cell_type": "code",
   "execution_count": 21,
   "id": "7ef688bd-41ff-4899-8bea-a453a8b705c4",
   "metadata": {},
   "outputs": [
    {
     "data": {
      "text/plain": [
       "array([[1, 2, 3],\n",
       "       [4, 5, 6],\n",
       "       [7, 8, 9]])"
      ]
     },
     "execution_count": 21,
     "metadata": {},
     "output_type": "execute_result"
    }
   ],
   "source": [
    "a = np.arange(1, 10).reshape(3, 3)\n",
    "a\n",
    "\n",
    "# revoir pointers\n",
    "#important\n",
    "#strides..\n",
    "# if i change a, it will change b also !!!!"
   ]
  },
  {
   "cell_type": "code",
   "execution_count": 22,
   "id": "e87b2ffe-8def-4a83-aef1-43ce5e64f7d3",
   "metadata": {},
   "outputs": [
    {
     "data": {
      "text/plain": [
       "array([1, 2, 3, 4, 5, 6, 7, 8, 9])"
      ]
     },
     "execution_count": 22,
     "metadata": {},
     "output_type": "execute_result"
    }
   ],
   "source": [
    "b = a\n",
    "b = b.reshape((-1,))\n",
    "b"
   ]
  },
  {
   "cell_type": "code",
   "execution_count": 23,
   "id": "b0876a35-25c4-46d2-b662-e9c1ffd83e58",
   "metadata": {},
   "outputs": [
    {
     "data": {
      "text/plain": [
       "array([-1,  2,  3,  4,  5,  6,  7,  8,  9])"
      ]
     },
     "execution_count": 23,
     "metadata": {},
     "output_type": "execute_result"
    }
   ],
   "source": [
    "b[0] = -1\n",
    "b"
   ]
  },
  {
   "cell_type": "code",
   "execution_count": 24,
   "id": "99234ae6-56a5-4b25-8dbd-4d0c5ad3d726",
   "metadata": {},
   "outputs": [
    {
     "data": {
      "text/plain": [
       "array([[-1,  2,  3],\n",
       "       [ 4,  5,  6],\n",
       "       [ 7,  8,  9]])"
      ]
     },
     "execution_count": 24,
     "metadata": {},
     "output_type": "execute_result"
    }
   ],
   "source": [
    "a"
   ]
  },
  {
   "cell_type": "code",
   "execution_count": 9,
   "id": "f7b50954",
   "metadata": {},
   "outputs": [
    {
     "ename": "NameError",
     "evalue": "name 'aT' is not defined",
     "output_type": "error",
     "traceback": [
      "\u001b[0;31m---------------------------------------------------------------------------\u001b[0m",
      "\u001b[0;31mNameError\u001b[0m                                 Traceback (most recent call last)",
      "Input \u001b[0;32mIn [9]\u001b[0m, in \u001b[0;36m<cell line: 1>\u001b[0;34m()\u001b[0m\n\u001b[0;32m----> 1\u001b[0m \u001b[43maT\u001b[49m\u001b[38;5;241m.\u001b[39mbase \u001b[38;5;129;01mis\u001b[39;00m a\u001b[38;5;241m.\u001b[39mbase\n",
      "\u001b[0;31mNameError\u001b[0m: name 'aT' is not defined"
     ]
    }
   ],
   "source": [
    "\n",
    "aT...\n",
    "aT.base is a.base"
   ]
  },
  {
   "cell_type": "code",
   "execution_count": null,
   "id": "2fdfd100",
   "metadata": {},
   "outputs": [],
   "source": [
    "a.stirdes .."
   ]
  },
  {
   "cell_type": "markdown",
   "id": "19068235-8db4-4737-ae8a-2a34d2a86bdc",
   "metadata": {},
   "source": [
    "What's going on? The `reshape` operation does not create a new array, but only a different _view_ of `a`. Therefore, `a` and `b` share the same contiguous data block in memory.\n",
    "\n",
    "<img src=\"./figures/nb02/ndarray.png\" width=\"75%\" />"
   ]
  },
  {
   "cell_type": "markdown",
   "id": "5302b62e-2b65-4af4-ab02-0298474b9565",
   "metadata": {},
   "source": [
    "# Basic operations"
   ]
  },
  {
   "cell_type": "markdown",
   "id": "1d1824a3-b1c2-4752-bb32-d3687a61981b",
   "metadata": {},
   "source": [
    "In Numpy, basic operations are called [universal functions](https://numpy.org/doc/stable/reference/ufuncs.html#available-ufuncs) (`ufunc`). They all operate on arrays in an element-by-element fashion. More specifically, a ufunc is a vectorized wrapper for a function that takes a fixed number of specific inputs and produces a fixed number of specific outputs. "
   ]
  },
  {
   "cell_type": "code",
   "execution_count": 25,
   "id": "e41ad62d-7a10-4659-9265-190b32e8d7c0",
   "metadata": {},
   "outputs": [],
   "source": [
    "# np.add?"
   ]
  },
  {
   "cell_type": "markdown",
   "id": "2082db94-a9bb-4a26-b157-83654452ccf7",
   "metadata": {},
   "source": [
    "As an example, basic mathematical operations are implemented as ufuncs. They operate elementwise on arrays, and are available both as operator overloads and as functions in the numpy module:"
   ]
  },
  {
   "cell_type": "code",
   "execution_count": 10,
   "id": "d5576333-001c-4fab-b5f7-87a7f5e70263",
   "metadata": {},
   "outputs": [
    {
     "name": "stdout",
     "output_type": "stream",
     "text": [
      "[[ 6.  8.]\n",
      " [10. 12.]]\n",
      "[[ 6.  8.]\n",
      " [10. 12.]]\n"
     ]
    }
   ],
   "source": [
    "x = np.array([[1, 2], [3 ,4]], dtype=float)\n",
    "y = np.array([[5, 6], [7, 8]], dtype=float)\n",
    "\n",
    "# Elementwise sum\n",
    "print(x + y)\n",
    "print(np.add(x, y))"
   ]
  },
  {
   "cell_type": "code",
   "execution_count": 27,
   "id": "2b21f816-e338-4eb5-8ad5-f7fe2739ebf2",
   "metadata": {},
   "outputs": [
    {
     "name": "stdout",
     "output_type": "stream",
     "text": [
      "[[-4. -4.]\n",
      " [-4. -4.]]\n",
      "[[-4. -4.]\n",
      " [-4. -4.]]\n"
     ]
    }
   ],
   "source": [
    "# Elementwise difference\n",
    "print(x - y)\n",
    "print(np.subtract(x, y))"
   ]
  },
  {
   "cell_type": "code",
   "execution_count": 28,
   "id": "b4beafdd-3c3e-414a-b0da-3b9f732c02a0",
   "metadata": {},
   "outputs": [
    {
     "name": "stdout",
     "output_type": "stream",
     "text": [
      "[[ 5. 12.]\n",
      " [21. 32.]]\n",
      "[[ 5. 12.]\n",
      " [21. 32.]]\n"
     ]
    }
   ],
   "source": [
    "# Elementwise product\n",
    "print(x * y)\n",
    "print(np.multiply(x, y))"
   ]
  },
  {
   "cell_type": "code",
   "execution_count": 29,
   "id": "9e24c89c-09ca-449c-803b-33d87269cf54",
   "metadata": {},
   "outputs": [
    {
     "name": "stdout",
     "output_type": "stream",
     "text": [
      "[[0.2        0.33333333]\n",
      " [0.42857143 0.5       ]]\n",
      "[[0.2        0.33333333]\n",
      " [0.42857143 0.5       ]]\n"
     ]
    }
   ],
   "source": [
    "# Elementwise division\n",
    "print(x / y)\n",
    "print(np.divide(x, y))"
   ]
  },
  {
   "cell_type": "markdown",
   "id": "25434d78-f53b-413d-8b21-ea89e595b3b9",
   "metadata": {},
   "source": [
    "Numpy also provides functions which are designed to operate on sequences of numbers, such as the `sum` function. Sequential functions can act on an array's entries as if they form a single sequence, or act on subsequences of the array's entries, according to the array's axes."
   ]
  },
  {
   "cell_type": "code",
   "execution_count": 30,
   "id": "49459ffd-1854-43c4-9cb6-3e2354321f5b",
   "metadata": {},
   "outputs": [
    {
     "data": {
      "text/plain": [
       "78"
      ]
     },
     "execution_count": 30,
     "metadata": {},
     "output_type": "execute_result"
    }
   ],
   "source": [
    "a = np.array([[1, 2, 3, 4],\n",
    "              [5, 6, 7, 8],\n",
    "              [9, 10, 11, 12]])\n",
    "np.sum(a)"
   ]
  },
  {
   "cell_type": "code",
   "execution_count": 12,
   "id": "18eaa27d-51c4-4afb-b15b-372ee6a0b583",
   "metadata": {},
   "outputs": [
    {
     "data": {
      "text/plain": [
       "array([15, 18, 21, 24])"
      ]
     },
     "execution_count": 12,
     "metadata": {},
     "output_type": "execute_result"
    }
   ],
   "source": [
    "#columns\n",
    "np.sum(a, axis=0)"
   ]
  },
  {
   "cell_type": "code",
   "execution_count": 13,
   "id": "d51e1c2b-f7f5-4938-b63a-30e2cbc1f1a3",
   "metadata": {},
   "outputs": [
    {
     "data": {
      "text/plain": [
       "array([10, 26, 42])"
      ]
     },
     "execution_count": 13,
     "metadata": {},
     "output_type": "execute_result"
    }
   ],
   "source": [
    "#\n",
    "np.sum(a, axis=1)"
   ]
  },
  {
   "cell_type": "markdown",
   "id": "6ea40b8a-1cbb-4e93-bf2c-ffedba7e69c5",
   "metadata": {},
   "source": [
    "<div class=\"alert alert-success\">\n",
    "    \n",
    "**Exercice.** Compute `x^y` element-wise, where `x` and `y` are two arrays.\n",
    "\n",
    "</div>"
   ]
  },
  {
   "cell_type": "code",
   "execution_count": 18,
   "id": "40bbfa5f-8722-4280-96cc-76d2804fc974",
   "metadata": {},
   "outputs": [
    {
     "data": {
      "text/plain": [
       "array([[1., 2.],\n",
       "       [3., 4.]])"
      ]
     },
     "execution_count": 18,
     "metadata": {},
     "output_type": "execute_result"
    }
   ],
   "source": [
    "x = np.array([[1, 2], [3 ,4]])\n",
    "y = np.array([[5, 6], [7, 8]])\n",
    "\n",
    "print(x**y)\n",
    "np.power()\n"
   ]
  },
  {
   "cell_type": "markdown",
   "id": "bd84d64c-33c9-40fe-ad79-05be15c2d7bc",
   "metadata": {},
   "source": [
    "<div class=\"alert alert-success\">\n",
    "    \n",
    "**Exercice.** Compute the Euclidean distance between the arrays `x` and `y`.\n",
    "\n",
    "</div>"
   ]
  },
  {
   "cell_type": "code",
   "execution_count": null,
   "id": "b3ef9b22-76e3-4c05-bc36-917f8c37c5f3",
   "metadata": {},
   "outputs": [],
   "source": [
    "# Python code to find Euclidean distance\n",
    "# using linalg.norm()\n",
    "\n",
    "import numpy as np\n",
    "\n",
    "# initializing points in\n",
    "# numpy arrays\n",
    "point1 = np.array((1, 2, 3))\n",
    "point2 = np.array((1, 1, 1))\n",
    "\n",
    "# calculating Euclidean distance\n",
    "# using linalg.norm()\n",
    "dist = np.linalg.norm(point1 - point2)\n",
    "\n",
    "# printing Euclidean distance\n",
    "print(dist)\n",
    "\n",
    "\n"
   ]
  },
  {
   "cell_type": "code",
   "execution_count": null,
   "id": "9b208329",
   "metadata": {},
   "outputs": [],
   "source": [
    "# Python code to find Euclidean distance version 2 (better)\n",
    "((x - y)**2.sum() ** 0.5)"
   ]
  },
  {
   "cell_type": "markdown",
   "id": "997ee7c8-f677-4abc-9490-a3a65da6e7b5",
   "metadata": {},
   "source": [
    "<div class=\"alert alert-success\">\n",
    "    \n",
    "**Exercice.** Let `a = np.arange(24).reshape(4, 6)`. Compute the mean value of each row and each column.\n",
    "\n",
    "</div>"
   ]
  },
  {
   "cell_type": "code",
   "execution_count": 21,
   "id": "91b91223-41e9-4b46-8f27-378c27d03eb4",
   "metadata": {},
   "outputs": [
    {
     "data": {
      "text/plain": [
       "array([[ 0,  1,  2,  3,  4,  5],\n",
       "       [ 6,  7,  8,  9, 10, 11],\n",
       "       [12, 13, 14, 15, 16, 17],\n",
       "       [18, 19, 20, 21, 22, 23]])"
      ]
     },
     "execution_count": 21,
     "metadata": {},
     "output_type": "execute_result"
    }
   ],
   "source": [
    "a = np.arange(24).reshape(4, 6)\n",
    "a\n"
   ]
  },
  {
   "cell_type": "code",
   "execution_count": 23,
   "id": "27b19154",
   "metadata": {},
   "outputs": [
    {
     "data": {
      "text/plain": [
       "array([ 9., 10., 11., 12., 13., 14.])"
      ]
     },
     "execution_count": 23,
     "metadata": {},
     "output_type": "execute_result"
    }
   ],
   "source": [
    "#columns\n",
    "np.mean(a, axis=0)\n"
   ]
  },
  {
   "cell_type": "code",
   "execution_count": 24,
   "id": "194ecca5",
   "metadata": {},
   "outputs": [
    {
     "data": {
      "text/plain": [
       "array([ 2.5,  8.5, 14.5, 20.5])"
      ]
     },
     "execution_count": 24,
     "metadata": {},
     "output_type": "execute_result"
    }
   ],
   "source": [
    "#rows\n",
    "np.mean(a, axis=1)"
   ]
  },
  {
   "cell_type": "markdown",
   "id": "140e1d1e-893d-4f07-8ce5-6b58d68ec103",
   "metadata": {},
   "source": [
    "<div class=\"alert alert-danger\">\n",
    "\n",
    "Because of the homogeneity of the array's entries, Numpy is able to delegate the task of performing mathematical operations to optimized, compiled C code. For this reason, performing extensive iterations (e.g. via ‘for-loops’) to perform repeated mathematical computations should nearly always be replaced by the use of vectorized functions on arrays. **This informs the entire design and usage paradigm of Numpy.**\n",
    "\n",
    "</div>"
   ]
  },
  {
   "cell_type": "code",
   "execution_count": 32,
   "id": "e45b2575-6e41-4afd-b551-6d26ef3f0888",
   "metadata": {},
   "outputs": [
    {
     "name": "stdout",
     "output_type": "stream",
     "text": [
      "10.3 µs ± 54.6 ns per loop (mean ± std. dev. of 7 runs, 100,000 loops each)\n"
     ]
    }
   ],
   "source": [
    "%%timeit\n",
    "np.sum(np.arange(10000))\n",
    "\n",
    "#can use jupyter magic : run several time, compute average"
   ]
  },
  {
   "cell_type": "code",
   "execution_count": 33,
   "id": "b5c59cd6-656c-436a-a04d-64612cb8dbd6",
   "metadata": {},
   "outputs": [
    {
     "name": "stdout",
     "output_type": "stream",
     "text": [
      "697 µs ± 17.6 µs per loop (mean ± std. dev. of 7 runs, 1,000 loops each)\n"
     ]
    }
   ],
   "source": [
    "%%timeit\n",
    "total = 0\n",
    "for i in np.arange(10000):\n",
    "    total += i"
   ]
  },
  {
   "cell_type": "code",
   "execution_count": 35,
   "id": "4e66aa39-827b-4f22-8823-2c0a916212ac",
   "metadata": {},
   "outputs": [
    {
     "name": "stdout",
     "output_type": "stream",
     "text": [
      "14 µs ± 505 ns per loop (mean ± std. dev. of 7 runs, 100,000 loops each)\n"
     ]
    }
   ],
   "source": [
    "%%timeit \n",
    "a = np.random.rand(1000)\n",
    "b = np.random.rand(1000)\n",
    "np.dot(a, b)"
   ]
  },
  {
   "cell_type": "code",
   "execution_count": 36,
   "id": "e09b0982-462d-43ba-ac40-52cd884270a5",
   "metadata": {},
   "outputs": [
    {
     "name": "stdout",
     "output_type": "stream",
     "text": [
      "215 µs ± 7.42 µs per loop (mean ± std. dev. of 7 runs, 1,000 loops each)\n"
     ]
    }
   ],
   "source": [
    "%%timeit \n",
    "a = np.random.rand(1000)\n",
    "b = np.random.rand(1000)\n",
    "total = 0\n",
    "for i in range(1000):\n",
    "    total += a[i] * b[i]"
   ]
  },
  {
   "cell_type": "markdown",
   "id": "a3ad8159-803a-4d33-9cb6-2e44be221bef",
   "metadata": {},
   "source": [
    "# Indexing, slicing, iterating"
   ]
  },
  {
   "cell_type": "markdown",
   "id": "63f686dc-9a3d-4e68-857d-f2250156b387",
   "metadata": {},
   "source": [
    "## 1d arrays\n",
    "\n",
    "One-dimensional arrays can be indexed, sliced, and iterated over, much like lists and other Python sequences. Indexing and slicing create views of arrays."
   ]
  },
  {
   "cell_type": "code",
   "execution_count": 37,
   "id": "53188ecb-0ef1-464d-b08a-801e1538befc",
   "metadata": {},
   "outputs": [
    {
     "data": {
      "text/plain": [
       "array([ 0,  1,  4,  9, 16, 25, 36, 49, 64, 81])"
      ]
     },
     "execution_count": 37,
     "metadata": {},
     "output_type": "execute_result"
    }
   ],
   "source": [
    "a = np.arange(10) ** 2\n",
    "a"
   ]
  },
  {
   "cell_type": "code",
   "execution_count": 38,
   "id": "627b5d75-66a2-4fdf-bab2-3dda7c45714a",
   "metadata": {},
   "outputs": [
    {
     "data": {
      "text/plain": [
       "array([ 4,  9, 16])"
      ]
     },
     "execution_count": 38,
     "metadata": {},
     "output_type": "execute_result"
    }
   ],
   "source": [
    "a[2:5]"
   ]
  },
  {
   "cell_type": "code",
   "execution_count": 39,
   "id": "f0cc1fe2-9f3d-4081-89b7-51f438c68574",
   "metadata": {},
   "outputs": [
    {
     "data": {
      "text/plain": [
       "array([100,   1, 100,   9, 100,  25,  36,  49,  64,  81])"
      ]
     },
     "execution_count": 39,
     "metadata": {},
     "output_type": "execute_result"
    }
   ],
   "source": [
    "a[:6:2] = 100\n",
    "a"
   ]
  },
  {
   "cell_type": "code",
   "execution_count": 40,
   "id": "33bf8238-c708-4853-8ed7-6440a0895627",
   "metadata": {},
   "outputs": [
    {
     "data": {
      "text/plain": [
       "array([ 81,  64,  49,  36,  25, 100,   9, 100,   1, 100])"
      ]
     },
     "execution_count": 40,
     "metadata": {},
     "output_type": "execute_result"
    }
   ],
   "source": [
    "a[::-1]"
   ]
  },
  {
   "cell_type": "code",
   "execution_count": 41,
   "id": "fd9cd5d3-5216-4566-8d8f-367eb1052187",
   "metadata": {},
   "outputs": [
    {
     "name": "stdout",
     "output_type": "stream",
     "text": [
      "100\n",
      "1\n",
      "100\n",
      "9\n",
      "100\n",
      "25\n",
      "36\n",
      "49\n",
      "64\n",
      "81\n"
     ]
    }
   ],
   "source": [
    "for i in a:\n",
    "    print(i)"
   ]
  },
  {
   "cell_type": "markdown",
   "id": "25d0584d-6c95-440d-b92b-a2c40d5aa639",
   "metadata": {},
   "source": [
    "## nd arrays\n",
    "\n",
    "Multidimensional arrays can have one index per axis. These indices are given in a tuple separated by commas:"
   ]
  },
  {
   "cell_type": "code",
   "execution_count": 42,
   "id": "2b86ba0f-4d46-40e7-8ba2-62a54299ef9d",
   "metadata": {},
   "outputs": [
    {
     "data": {
      "text/plain": [
       "array([[  0,   1,   4,   9],\n",
       "       [ 16,  25,  36,  49],\n",
       "       [ 64,  81, 100, 121],\n",
       "       [144, 169, 196, 225],\n",
       "       [256, 289, 324, 361]])"
      ]
     },
     "execution_count": 42,
     "metadata": {},
     "output_type": "execute_result"
    }
   ],
   "source": [
    "b = np.arange(20).reshape(5, 4) ** 2\n",
    "b"
   ]
  },
  {
   "cell_type": "code",
   "execution_count": 43,
   "id": "9fe4aec6-d75d-4848-bb7c-49e859be2851",
   "metadata": {},
   "outputs": [
    {
     "data": {
      "text/plain": [
       "81"
      ]
     },
     "execution_count": 43,
     "metadata": {},
     "output_type": "execute_result"
    }
   ],
   "source": [
    "b[2, 1]"
   ]
  },
  {
   "cell_type": "code",
   "execution_count": 44,
   "id": "50f550cc-e1c3-40c7-880c-2232b6d15985",
   "metadata": {},
   "outputs": [
    {
     "data": {
      "text/plain": [
       "array([  1,  25,  81, 169, 289])"
      ]
     },
     "execution_count": 44,
     "metadata": {},
     "output_type": "execute_result"
    }
   ],
   "source": [
    "b[0:5, 1]"
   ]
  },
  {
   "cell_type": "code",
   "execution_count": 45,
   "id": "147deb93-0f16-4798-8443-8858acfff536",
   "metadata": {},
   "outputs": [
    {
     "data": {
      "text/plain": [
       "array([  1,  25,  81, 169, 289])"
      ]
     },
     "execution_count": 45,
     "metadata": {},
     "output_type": "execute_result"
    }
   ],
   "source": [
    "b[:, 1]"
   ]
  },
  {
   "cell_type": "code",
   "execution_count": 46,
   "id": "0a79a846-0a61-4c2d-ab8e-23e3746c7a0f",
   "metadata": {},
   "outputs": [
    {
     "data": {
      "text/plain": [
       "array([[ 16,  25,  36,  49],\n",
       "       [ 64,  81, 100, 121]])"
      ]
     },
     "execution_count": 46,
     "metadata": {},
     "output_type": "execute_result"
    }
   ],
   "source": [
    "b[1:3, :]"
   ]
  },
  {
   "cell_type": "code",
   "execution_count": 47,
   "id": "1b436530-48e2-45f2-bc87-e92891e5f48e",
   "metadata": {},
   "outputs": [
    {
     "data": {
      "text/plain": [
       "array([[  1,   4],\n",
       "       [ 25,  36],\n",
       "       [ 81, 100],\n",
       "       [169, 196],\n",
       "       [289, 324]])"
      ]
     },
     "execution_count": 47,
     "metadata": {},
     "output_type": "execute_result"
    }
   ],
   "source": [
    "b[:, 1:3]"
   ]
  },
  {
   "cell_type": "code",
   "execution_count": 48,
   "id": "98c3eb59-89b1-4a41-8297-9d3d00fe2738",
   "metadata": {},
   "outputs": [
    {
     "data": {
      "text/plain": [
       "array([256, 289, 324, 361])"
      ]
     },
     "execution_count": 48,
     "metadata": {},
     "output_type": "execute_result"
    }
   ],
   "source": [
    "b[-1]"
   ]
  },
  {
   "cell_type": "code",
   "execution_count": 49,
   "id": "c57a8088-73a8-4853-886d-9722296a42f2",
   "metadata": {},
   "outputs": [
    {
     "data": {
      "text/plain": [
       "array([[[  0,   1,   2],\n",
       "        [ 10,  12,  13]],\n",
       "\n",
       "       [[100, 101, 102],\n",
       "        [110, 112, 112]]])"
      ]
     },
     "execution_count": 49,
     "metadata": {},
     "output_type": "execute_result"
    }
   ],
   "source": [
    "c = np.array([[[0, 1, 2], \n",
    "               [10, 12, 13]],\n",
    "              [[100, 101, 102],\n",
    "               [110, 112, 112]]])\n",
    "c"
   ]
  },
  {
   "cell_type": "code",
   "execution_count": 50,
   "id": "e786ade5-27c6-48b3-9e4d-8d2d34d3fea7",
   "metadata": {},
   "outputs": [
    {
     "data": {
      "text/plain": [
       "(2, 2, 3)"
      ]
     },
     "execution_count": 50,
     "metadata": {},
     "output_type": "execute_result"
    }
   ],
   "source": [
    "c.shape"
   ]
  },
  {
   "cell_type": "code",
   "execution_count": 51,
   "id": "946834d3-0df4-479d-9311-29eed00a0181",
   "metadata": {},
   "outputs": [
    {
     "data": {
      "text/plain": [
       "array([[100, 101, 102],\n",
       "       [110, 112, 112]])"
      ]
     },
     "execution_count": 51,
     "metadata": {},
     "output_type": "execute_result"
    }
   ],
   "source": [
    "c[1, ...]"
   ]
  },
  {
   "cell_type": "code",
   "execution_count": 52,
   "id": "1afc9b78-8a1b-43f0-ac52-bdd3b2e90cb6",
   "metadata": {},
   "outputs": [
    {
     "data": {
      "text/plain": [
       "array([[  2,  13],\n",
       "       [102, 112]])"
      ]
     },
     "execution_count": 52,
     "metadata": {},
     "output_type": "execute_result"
    }
   ],
   "source": [
    "c[..., 2]\n",
    "\n",
    "#order of dimensions !!!"
   ]
  },
  {
   "cell_type": "markdown",
   "id": "02a6f21f-315a-47a5-bcd6-b8f83bb6c427",
   "metadata": {},
   "source": [
    "Iterating over multidimensional arrays is done with respect to the first axis:"
   ]
  },
  {
   "cell_type": "code",
   "execution_count": 53,
   "id": "2762e616-8d6a-4950-b5ba-19e0f84b4786",
   "metadata": {},
   "outputs": [
    {
     "name": "stdout",
     "output_type": "stream",
     "text": [
      "[0 1 4 9]\n",
      "[16 25 36 49]\n",
      "[ 64  81 100 121]\n",
      "[144 169 196 225]\n",
      "[256 289 324 361]\n"
     ]
    }
   ],
   "source": [
    "for row in b:\n",
    "    print(row)"
   ]
  },
  {
   "cell_type": "code",
   "execution_count": 54,
   "id": "449c8e44-27df-4e85-a272-342659b4cd7a",
   "metadata": {},
   "outputs": [
    {
     "name": "stdout",
     "output_type": "stream",
     "text": [
      "0\n",
      "1\n",
      "4\n",
      "9\n",
      "16\n",
      "25\n",
      "36\n",
      "49\n",
      "64\n",
      "81\n",
      "100\n",
      "121\n",
      "144\n",
      "169\n",
      "196\n",
      "225\n",
      "256\n",
      "289\n",
      "324\n",
      "361\n"
     ]
    }
   ],
   "source": [
    "#rapid iterate \n",
    "\n",
    "for element in b.flat:\n",
    "    print(element)"
   ]
  },
  {
   "cell_type": "markdown",
   "id": "290e46e8-924a-4c42-bb30-9dce67f9cae4",
   "metadata": {},
   "source": [
    "## Fancy indexing\n",
    "\n",
    "When you index into numpy arrays using slicing, the resulting array view will always be a subarray of the original array. Instead, integer array indexing allows you to construct arbitrary arrays using the data from another array. "
   ]
  },
  {
   "cell_type": "code",
   "execution_count": 55,
   "id": "3eaf2fea-d293-4cb5-bc7a-4e200988ff78",
   "metadata": {},
   "outputs": [
    {
     "data": {
      "text/plain": [
       "array([10,  9,  8,  7,  6,  5,  4,  3,  2])"
      ]
     },
     "execution_count": 55,
     "metadata": {},
     "output_type": "execute_result"
    }
   ],
   "source": [
    "x = np.arange(10, 1, -1)\n",
    "x"
   ]
  },
  {
   "cell_type": "code",
   "execution_count": 56,
   "id": "04d791a8-f949-424b-a5a5-e4829cccf9ee",
   "metadata": {},
   "outputs": [
    {
     "data": {
      "text/plain": [
       "array([7, 7, 9, 2])"
      ]
     },
     "execution_count": 56,
     "metadata": {},
     "output_type": "execute_result"
    }
   ],
   "source": [
    "x[np.array([3, 3, 1, 8])]"
   ]
  },
  {
   "cell_type": "code",
   "execution_count": 57,
   "id": "4e84a341-ff05-467e-a314-0641ff98add6",
   "metadata": {},
   "outputs": [
    {
     "data": {
      "text/plain": [
       "array([7, 7, 4, 2])"
      ]
     },
     "execution_count": 57,
     "metadata": {},
     "output_type": "execute_result"
    }
   ],
   "source": [
    "x[np.array([3, 3, -3, 8])]"
   ]
  },
  {
   "cell_type": "markdown",
   "id": "15dd8432-e2ac-4b1d-93a3-c006b0757f72",
   "metadata": {},
   "source": [
    "Arrays can also be indexed with Boolean arrays:"
   ]
  },
  {
   "cell_type": "code",
   "execution_count": 68,
   "id": "44be6373-af5d-4682-9b95-821d2dde184f",
   "metadata": {},
   "outputs": [
    {
     "data": {
      "text/plain": [
       "array([ 0.00000000e+00,  3.24699469e-01,  6.14212713e-01,  8.37166478e-01,\n",
       "        9.69400266e-01,  9.96584493e-01,  9.15773327e-01,  7.35723911e-01,\n",
       "        4.75947393e-01,  1.64594590e-01, -1.64594590e-01, -4.75947393e-01,\n",
       "       -7.35723911e-01, -9.15773327e-01, -9.96584493e-01, -9.69400266e-01,\n",
       "       -8.37166478e-01, -6.14212713e-01, -3.24699469e-01, -2.44929360e-16])"
      ]
     },
     "execution_count": 68,
     "metadata": {},
     "output_type": "execute_result"
    }
   ],
   "source": [
    "sin = np.sin(np.linspace(0, 2*np.pi, num=20))\n",
    "sin"
   ]
  },
  {
   "cell_type": "code",
   "execution_count": 69,
   "id": "078a0435-8fa1-49c3-9b80-1e087456daa6",
   "metadata": {},
   "outputs": [
    {
     "data": {
      "text/plain": [
       "array([0.32469947, 0.61421271, 0.83716648, 0.96940027, 0.99658449,\n",
       "       0.91577333, 0.73572391, 0.47594739, 0.16459459])"
      ]
     },
     "execution_count": 69,
     "metadata": {},
     "output_type": "execute_result"
    }
   ],
   "source": [
    "sin[sin > 0.0]"
   ]
  },
  {
   "cell_type": "markdown",
   "id": "9c9b4497-d9bf-425c-86a4-556a90cf056b",
   "metadata": {},
   "source": [
    "<div class=\"alert alert-success\">\n",
    "    \n",
    "**Exercice**. Let `a = np.arange(9).reshape(3, 3)`. Swap the first and the second rows.\n",
    "\n",
    "</div>"
   ]
  },
  {
   "cell_type": "code",
   "execution_count": 37,
   "id": "f6d05364-2d59-4aba-bb3a-ffd90b7188c7",
   "metadata": {},
   "outputs": [
    {
     "data": {
      "text/plain": [
       "array([[0, 1, 2],\n",
       "       [3, 4, 5],\n",
       "       [6, 7, 8]])"
      ]
     },
     "execution_count": 37,
     "metadata": {},
     "output_type": "execute_result"
    }
   ],
   "source": [
    "a = np.arange(9).reshape(3, 3)\n",
    "a"
   ]
  },
  {
   "cell_type": "code",
   "execution_count": 38,
   "id": "2c169baf",
   "metadata": {},
   "outputs": [
    {
     "data": {
      "text/plain": [
       "array([], dtype=float64)"
      ]
     },
     "execution_count": 38,
     "metadata": {},
     "output_type": "execute_result"
    }
   ],
   "source": [
    "a[[1,0,2]]\n"
   ]
  },
  {
   "cell_type": "code",
   "execution_count": 39,
   "id": "35a06c81",
   "metadata": {
    "scrolled": true
   },
   "outputs": [
    {
     "data": {
      "text/plain": [
       "array([[3, 4, 5],\n",
       "       [0, 1, 2],\n",
       "       [6, 7, 8]])"
      ]
     },
     "execution_count": 39,
     "metadata": {},
     "output_type": "execute_result"
    }
   ],
   "source": []
  },
  {
   "cell_type": "code",
   "execution_count": null,
   "id": "e2260025",
   "metadata": {},
   "outputs": [],
   "source": []
  },
  {
   "cell_type": "markdown",
   "id": "6efb7cc5-35d4-428a-b63e-3b056204d09d",
   "metadata": {},
   "source": [
    "# Broadcasting"
   ]
  },
  {
   "cell_type": "markdown",
   "id": "d7ccd189-60f2-438b-b4d6-8eb769b7a488",
   "metadata": {},
   "source": [
    "Broadcasting is a powerful mechanism that allows Numpy to work with arrays of different shapes when performing arithmetic operations. Frequently we have a smaller array and a larger array, and we want to use the smaller array multiple times to perform some operation on the larger array.\n",
    "\n",
    "For example, suppose that we want to add a constant vector to each row of a matrix. We could do it like this:"
   ]
  },
  {
   "cell_type": "code",
   "execution_count": 58,
   "id": "69898d98-71e7-41fc-917e-00c51e909bd0",
   "metadata": {},
   "outputs": [
    {
     "data": {
      "text/plain": [
       "array([[ 2,  2,  4],\n",
       "       [ 5,  5,  7],\n",
       "       [ 8,  8, 10],\n",
       "       [11, 11, 13]])"
      ]
     },
     "execution_count": 58,
     "metadata": {},
     "output_type": "execute_result"
    }
   ],
   "source": [
    "# without broadcasting\n",
    "x = np.array([[1,2,3], [4,5,6], [7,8,9], [10, 11, 12]])\n",
    "v = np.array([1, 0, 1])\n",
    "y = np.empty_like(x)   \n",
    "\n",
    "for i in range(4):\n",
    "    y[i, :] = x[i, :] + v\n",
    "\n",
    "y"
   ]
  },
  {
   "cell_type": "code",
   "execution_count": 59,
   "id": "96bf9cc7-d572-45fb-89fb-9d9c735eae93",
   "metadata": {},
   "outputs": [
    {
     "data": {
      "text/plain": [
       "array([[ 2,  2,  4],\n",
       "       [ 5,  5,  7],\n",
       "       [ 8,  8, 10],\n",
       "       [11, 11, 13]])"
      ]
     },
     "execution_count": 59,
     "metadata": {},
     "output_type": "execute_result"
    }
   ],
   "source": [
    "# with broadcasting\n",
    "x = np.array([[1,2,3], [4,5,6], [7,8,9], [10, 11, 12]])\n",
    "v = np.array([1, 0, 1])\n",
    "y = x + v \n",
    "y"
   ]
  },
  {
   "cell_type": "markdown",
   "id": "75d31758-120a-49cf-9d33-2fab78503ad9",
   "metadata": {},
   "source": [
    "The line `y = x + v` works even though `x` has shape `(4, 3)` and `v` has shape `(3,)` due to broadcasting; this line works as if v actually had shape `(4, 3)`, where each row was a copy of `v`, and the sum was performed elementwise.\n",
    "\n",
    "Broadcasting two arrays together follows these rules:\n",
    "\n",
    "1. If the arrays do not have the same rank, prepend the shape of the lower rank array with 1s until both shapes have the same length.\n",
    "2. The two arrays are said to be compatible in a dimension if they have the same size in the dimension, or if one of the arrays has size 1 in that dimension.\n",
    "3. The arrays can be broadcast together if they are compatible in all dimensions.\n",
    "4. After broadcasting, each array behaves as if it had shape equal to the elementwise maximum of shapes of the two input arrays.\n",
    "5. In any dimension where one array had size 1 and the other array had size greater than 1, the first array behaves as if it were copied along that dimension.\n",
    "\n",
    "In Numpy, all universal functions support broadcasting!\n",
    "\n",
    "Here are some applications of broadcasting:"
   ]
  },
  {
   "cell_type": "code",
   "execution_count": 60,
   "id": "52ac2a9a-7e06-4000-a9bd-acd680d08ae8",
   "metadata": {},
   "outputs": [
    {
     "data": {
      "text/plain": [
       "array([[ 4,  5],\n",
       "       [ 8, 10],\n",
       "       [12, 15]])"
      ]
     },
     "execution_count": 60,
     "metadata": {},
     "output_type": "execute_result"
    }
   ],
   "source": [
    "# Compute outer product of vectors\n",
    "v = np.array([1, 2, 3])  # v has shape (3,)\n",
    "w = np.array([4, 5])    # w has shape (2,)\n",
    "# To compute an outer product, we first reshape v to be a column\n",
    "# vector of shape (3, 1); we can then broadcast it against w to yield\n",
    "# an output of shape (3, 2), which is the outer product of v and w:\n",
    "\n",
    "np.reshape(v, (3, 1)) * w"
   ]
  },
  {
   "cell_type": "code",
   "execution_count": 43,
   "id": "ec5f8116-84a8-48bb-a942-0ff31f2266ef",
   "metadata": {},
   "outputs": [
    {
     "ename": "ValueError",
     "evalue": "operands could not be broadcast together with shapes (2,3) (4,) ",
     "output_type": "error",
     "traceback": [
      "\u001b[0;31m---------------------------------------------------------------------------\u001b[0m",
      "\u001b[0;31mValueError\u001b[0m                                Traceback (most recent call last)",
      "Input \u001b[0;32mIn [43]\u001b[0m, in \u001b[0;36m<cell line: 6>\u001b[0;34m()\u001b[0m\n\u001b[1;32m      2\u001b[0m x \u001b[38;5;241m=\u001b[39m np\u001b[38;5;241m.\u001b[39marray([[\u001b[38;5;241m1\u001b[39m,\u001b[38;5;241m2\u001b[39m,\u001b[38;5;241m3\u001b[39m], [\u001b[38;5;241m4\u001b[39m,\u001b[38;5;241m5\u001b[39m,\u001b[38;5;241m6\u001b[39m]])\n\u001b[1;32m      3\u001b[0m \u001b[38;5;66;03m# x has shape (2, 3) and v has shape (3,) so they broadcast to (2, 3),\u001b[39;00m\n\u001b[1;32m      4\u001b[0m \u001b[38;5;66;03m# giving the following matrix:\u001b[39;00m\n\u001b[0;32m----> 6\u001b[0m \u001b[43mx\u001b[49m\u001b[43m \u001b[49m\u001b[38;5;241;43m+\u001b[39;49m\u001b[43m \u001b[49m\u001b[43mv\u001b[49m\n",
      "\u001b[0;31mValueError\u001b[0m: operands could not be broadcast together with shapes (2,3) (4,) "
     ]
    }
   ],
   "source": [
    "# Add a vector to each row of a matrix\n",
    "x = np.array([[1,2,3], [4,5,6]])\n",
    "# x has shape (2, 3) and v has shape (3,) so they broadcast to (2, 3),\n",
    "# giving the following matrix:\n",
    "\n",
    "x + v"
   ]
  },
  {
   "cell_type": "code",
   "execution_count": 62,
   "id": "7d8b569a-de5e-4325-92d5-0f1721bf8c98",
   "metadata": {},
   "outputs": [
    {
     "name": "stdout",
     "output_type": "stream",
     "text": [
      "[[ 5  6  7]\n",
      " [ 9 10 11]]\n"
     ]
    }
   ],
   "source": [
    "# Add a vector to each column of a matrix\n",
    "# x has shape (2, 3) and w has shape (2,).\n",
    "# If we transpose x then it has shape (3, 2) and can be broadcast\n",
    "# against w to yield a result of shape (3, 2); transposing this result\n",
    "# yields the final result of shape (2, 3) which is the matrix x with\n",
    "# the vector w added to each column. Gives the following matrix:\n",
    "\n",
    "print((x.T + w).T)"
   ]
  },
  {
   "cell_type": "markdown",
   "id": "df8b1c62-9216-41d0-bf7f-19454cbe330f",
   "metadata": {},
   "source": [
    "Broadcasting typically makes your code more concise and faster, so you should strive to use it where possible."
   ]
  },
  {
   "cell_type": "markdown",
   "id": "76c9f89e-8507-4538-9f1d-ac3dbc4c622b",
   "metadata": {},
   "source": [
    "<div class=\"alert alert-success\">\n",
    "    \n",
    "**Exercice**. Divide each column of the array `a = np.arange(25).reshape(5, 5)` elementwise with the array `b = np.array([1., 5, 10, 15, 20])`.\n",
    "\n",
    "</div>"
   ]
  },
  {
   "cell_type": "code",
   "execution_count": 50,
   "id": "a6edf801-6788-4c00-8250-9a20c2f5840b",
   "metadata": {},
   "outputs": [
    {
     "data": {
      "text/plain": [
       "(array([[ 0,  1,  2,  3,  4],\n",
       "        [ 5,  6,  7,  8,  9],\n",
       "        [10, 11, 12, 13, 14],\n",
       "        [15, 16, 17, 18, 19],\n",
       "        [20, 21, 22, 23, 24]]),\n",
       " array([ 1.,  5., 10., 15., 20.]))"
      ]
     },
     "execution_count": 50,
     "metadata": {},
     "output_type": "execute_result"
    }
   ],
   "source": [
    "a = np.arange(25).reshape(5, 5)\n",
    "b = np.array([1., 5, 10, 15, 20])\n",
    "\n",
    "a,b\n",
    "\n"
   ]
  },
  {
   "cell_type": "code",
   "execution_count": 51,
   "id": "08eb407d",
   "metadata": {},
   "outputs": [
    {
     "name": "stdout",
     "output_type": "stream",
     "text": [
      "[[0.         1.         2.         3.         4.        ]\n",
      " [1.         1.2        1.4        1.6        1.8       ]\n",
      " [1.         1.1        1.2        1.3        1.4       ]\n",
      " [1.         1.06666667 1.13333333 1.2        1.26666667]\n",
      " [1.         1.05       1.1        1.15       1.2       ]]\n"
     ]
    }
   ],
   "source": [
    "print((a.T/b).T)\n"
   ]
  },
  {
   "cell_type": "markdown",
   "id": "007c90c0-8388-4ccf-a508-7615abc09a02",
   "metadata": {},
   "source": [
    "# Routines"
   ]
  },
  {
   "cell_type": "markdown",
   "id": "50c03040-d8c7-4d45-ae83-9fa0e90ab698",
   "metadata": {},
   "source": [
    "Numpy comes with [a large suite](https://numpy.org/doc/stable/reference/routines.html) of routines, including:\n",
    "\n",
    "- Array creation and manipulation\n",
    "- String operations\n",
    "- Datetime support functions\n",
    "- Functional programming\n",
    "- I/O\n",
    "- Linear algebra\n",
    "- Mathematical functions\n",
    "- Random sampling\n",
    "- Sorting, searching and counting\n",
    "- Statistics"
   ]
  },
  {
   "cell_type": "markdown",
   "id": "d2d6b24e-0ade-4499-8139-34f2d65d4bf0",
   "metadata": {},
   "source": [
    "# Wrap-up exercises"
   ]
  },
  {
   "cell_type": "markdown",
   "id": "93f76614-be64-4853-b4b9-6dc2c58e1fe6",
   "metadata": {},
   "source": [
    "## Data statistics (Scipy lectures, 1.4.5.3)"
   ]
  },
  {
   "cell_type": "markdown",
   "id": "3af81620-ff7c-4151-88b5-764566037d9c",
   "metadata": {},
   "source": [
    "The data in `data/population.txt` describes the populations of hares and lynxes (and carrots) in northern Canada during 20 years:"
   ]
  },
  {
   "cell_type": "code",
   "execution_count": 76,
   "id": "127d881c-bfca-44e3-9bb3-33603de59a6b",
   "metadata": {},
   "outputs": [
    {
     "data": {
      "image/png": "[encoded data removed]",
      "text/plain": [
       "<Figure size 640x480 with 1 Axes>"
      ]
     },
     "metadata": {},
     "output_type": "display_data"
    }
   ],
   "source": [
    "data = np.loadtxt(\"data/populations.txt\")\n",
    "\n",
    "data \n",
    "\n",
    "year, hares, lynxes, carrots = data.T\n",
    "\n",
    "import matplotlib.pyplot as plt\n",
    "plt.plot(year, hares, label=\"hares\")\n",
    "plt.plot(year, lynxes, label=\"lynxes\")\n",
    "plt.plot(year, carrots, label=\"carrots\")\n",
    "plt.show()"
   ]
  },
  {
   "cell_type": "code",
   "execution_count": 77,
   "id": "94e7bde5",
   "metadata": {},
   "outputs": [
    {
     "data": {
      "text/plain": [
       "array([[ 1900., 30000.,  4000., 48300.],\n",
       "       [ 1901., 47200.,  6100., 48200.],\n",
       "       [ 1902., 70200.,  9800., 41500.],\n",
       "       [ 1903., 77400., 35200., 38200.],\n",
       "       [ 1904., 36300., 59400., 40600.],\n",
       "       [ 1905., 20600., 41700., 39800.],\n",
       "       [ 1906., 18100., 19000., 38600.],\n",
       "       [ 1907., 21400., 13000., 42300.],\n",
       "       [ 1908., 22000.,  8300., 44500.],\n",
       "       [ 1909., 25400.,  9100., 42100.],\n",
       "       [ 1910., 27100.,  7400., 46000.],\n",
       "       [ 1911., 40300.,  8000., 46800.],\n",
       "       [ 1912., 57000., 12300., 43800.],\n",
       "       [ 1913., 76600., 19500., 40900.],\n",
       "       [ 1914., 52300., 45700., 39400.],\n",
       "       [ 1915., 19500., 51100., 39000.],\n",
       "       [ 1916., 11200., 29700., 36700.],\n",
       "       [ 1917.,  7600., 15800., 41800.],\n",
       "       [ 1918., 14600.,  9700., 43300.],\n",
       "       [ 1919., 16200., 10100., 41300.],\n",
       "       [ 1920., 24700.,  8600., 47300.]])"
      ]
     },
     "execution_count": 77,
     "metadata": {},
     "output_type": "execute_result"
    }
   ],
   "source": [
    "data \n"
   ]
  },
  {
   "cell_type": "markdown",
   "id": "b1d2f6b4-f7c7-421d-a622-400496f885db",
   "metadata": {},
   "source": [
    "Compute and print, based on the data in the file:\n",
    "\n",
    "1. The mean and std of the populations of each species for the years in the period.\n",
    "2. Which year each species had the largest population.\n",
    "3. Which species has the largest population for each year.\n",
    "4. Which years any of the populations is above 50000. \n",
    "5. The top 2 years for each species when they ad the lowest populations.\n",
    "6. Compare (plot) the change in hare population (see `np.gradient`) and the number of lynxes. Check correlations (see `np.corrcoef`).\n",
    "\n",
    "... all without for-loops."
   ]
  },
  {
   "cell_type": "code",
   "execution_count": 80,
   "id": "fdcd688e-7be1-445d-a960-f3f26d3c9d96",
   "metadata": {},
   "outputs": [
    {
     "data": {
      "text/plain": [
       "[<matplotlib.lines.Line2D at 0x7f19c2a88460>]"
      ]
     },
     "execution_count": 80,
     "metadata": {},
     "output_type": "execute_result"
    },
    {
     "data": {
      "image/png": "[encoded data removed]",
      "text/plain": [
       "<Figure size 640x480 with 1 Axes>"
      ]
     },
     "metadata": {},
     "output_type": "display_data"
    }
   ],
   "source": [
    "#1\n",
    "\n",
    "meandata = np.mean(data[:,1:], axis=0)\n",
    "stddata = np.std(data[:,1:], axis = 0)\n",
    "\n",
    "meandata,stddata\n",
    "\n",
    "\n",
    "#2\n",
    "year[np.argmax(data[:,1:], axis = 0)]\n",
    "\n",
    "\n",
    "#3\n",
    "species = np.argmax(data[:,1:], axis = 1)\n",
    "np.array([\"hares\",\"lynxes\", \"carrots\"])[species]\n",
    "\n",
    "#4 Which years any of the populations is above 50000.\n",
    "year[np.any(data[:,1:] > 5000, axis = 1)]\n",
    "\n",
    "#5 The top 2 years for each species when they ad the lowest populations.\n",
    "year[np.argsort(data[:,1:], axis = 1)[:2]]\n",
    "\n",
    "\n",
    "#6\n",
    "plt.plot(year,np.gradient(hares), label = \" rate of change of hares\")\n",
    "plt.plot(year, lynxes, label = \"lyxnes\")\n",
    "\n"
   ]
  },
  {
   "cell_type": "code",
   "execution_count": 84,
   "id": "9e66da23",
   "metadata": {},
   "outputs": [],
   "source": [
    "np.corrcoef?"
   ]
  },
  {
   "cell_type": "code",
   "execution_count": 86,
   "id": "9fc77068",
   "metadata": {},
   "outputs": [
    {
     "data": {
      "text/plain": [
       "array([[ 1.        , -0.91792485],\n",
       "       [-0.91792485,  1.        ]])"
      ]
     },
     "execution_count": 86,
     "metadata": {},
     "output_type": "execute_result"
    }
   ],
   "source": [
    "np.corrcoef(np.gradient(hares),lynxes)"
   ]
  },
  {
   "cell_type": "markdown",
   "id": "a45385f7-78f2-4657-abfe-d9efb17a6468",
   "metadata": {},
   "source": [
    "## Mandelbrot (Scipy lectures, 1.4.5.5)"
   ]
  },
  {
   "cell_type": "markdown",
   "id": "a63c2fa7-b467-4613-98e5-d23b8b4b7545",
   "metadata": {},
   "source": [
    "Write a script that computes the Mandelbrot fractal. The Mandelbrot iteration:\n",
    "```python\n",
    "N_max = 50\n",
    "threshold = 50\n",
    "c = x + 1j*y\n",
    "z = 0\n",
    "for j in range(N_max):\n",
    "    z = z**2 + c\n",
    "```\n",
    "\n",
    "A point `(x, y)` belongs to the Mandelbrot set if `|z| < threshold`. \n",
    "\n",
    "Compute the Mandelbrot in the following way:\n",
    "1. Build a grid of `c = x + 1j * y` values in the range `[-2, 1]x[-1.5, 1.5]`.\n",
    "2. Compute the Mandelbrot iteration.\n",
    "3. Form the 2d Boolean mask indicating which points are in the set.\n",
    "4. Display the result with `plt.imshow()`."
   ]
  },
  {
   "cell_type": "code",
   "execution_count": null,
   "id": "ddf033e0-3bc4-4705-8e14-835e3e2e2094",
   "metadata": {},
   "outputs": [],
   "source": []
  }
 ],
 "metadata": {
  "kernelspec": {
   "display_name": "Python 3 (ipykernel)",
   "language": "python",
   "name": "python3"
  },
  "language_info": {
   "codemirror_mode": {
    "name": "ipython",
    "version": 3
   },
   "file_extension": ".py",
   "mimetype": "text/x-python",
   "name": "python",
   "nbconvert_exporter": "python",
   "pygments_lexer": "ipython3",
   "version": "3.10.4"
  },
  "toc-autonumbering": false
 },
 "nbformat": 4,
 "nbformat_minor": 5
}
